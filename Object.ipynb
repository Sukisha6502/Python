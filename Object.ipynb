{
  "nbformat": 4,
  "nbformat_minor": 0,
  "metadata": {
    "colab": {
      "provenance": []
    },
    "kernelspec": {
      "name": "python3",
      "display_name": "Python 3"
    },
    "language_info": {
      "name": "python"
    }
  },
  "cells": [
    {
      "cell_type": "markdown",
      "source": [
        "OBJECT WITH ATTRIBUTE"
      ],
      "metadata": {
        "id": "BlX-yhlLpKzG"
      }
    },
    {
      "cell_type": "code",
      "source": [
        "class student:\n",
        "  def __init__ (self,name,course,dept):\n",
        "   self.name=name\n",
        "   self.course=course\n",
        "   self.dept=dept\n",
        "obj=student(\"Suki\",\"Python\",\"CSE\")\n",
        "print(obj.name)\n",
        "print(obj.course)\n",
        "print(obj.dept)"
      ],
      "metadata": {
        "colab": {
          "base_uri": "https://localhost:8080/"
        },
        "id": "Dv0WI0hspS0o",
        "outputId": "4a555baf-f3cb-4fdd-fdc4-511f917a8a42"
      },
      "execution_count": null,
      "outputs": [
        {
          "output_type": "stream",
          "name": "stdout",
          "text": [
            "Suki\n",
            "Python\n",
            "CSE\n"
          ]
        }
      ]
    },
    {
      "cell_type": "code",
      "source": [
        "class car:\n",
        "  def __init__ (self,name,model,year):\n",
        "   self.name=name\n",
        "   self.model=model\n",
        "   self.year=year\n",
        "obj=car(\"audi\",\"57465\",2023)\n",
        "print(obj.name)\n",
        "print(obj.model)\n",
        "print(obj.year)\n",
        "\n"
      ],
      "metadata": {
        "colab": {
          "base_uri": "https://localhost:8080/"
        },
        "id": "vbx32gsyiqfP",
        "outputId": "98ffadcd-fcac-4e1c-8604-8be24834f002"
      },
      "execution_count": null,
      "outputs": [
        {
          "output_type": "stream",
          "name": "stdout",
          "text": [
            "audi\n",
            "57465\n",
            "2023\n"
          ]
        }
      ]
    },
    {
      "cell_type": "code",
      "source": [
        "obj.model=\"456\"\n",
        "print(obj.model)"
      ],
      "metadata": {
        "colab": {
          "base_uri": "https://localhost:8080/"
        },
        "id": "HzXRS2jhiqhj",
        "outputId": "7ffc563e-6b10-43c0-837f-fbd5137f95b4"
      },
      "execution_count": null,
      "outputs": [
        {
          "output_type": "stream",
          "name": "stdout",
          "text": [
            "456\n"
          ]
        }
      ]
    },
    {
      "cell_type": "code",
      "source": [
        "del obj"
      ],
      "metadata": {
        "id": "-BLnXCH_iqkq"
      },
      "execution_count": null,
      "outputs": []
    },
    {
      "cell_type": "code",
      "source": [
        "print(obj.model)"
      ],
      "metadata": {
        "colab": {
          "base_uri": "https://localhost:8080/",
          "height": 175
        },
        "id": "9H1Ch5Vwiqno",
        "outputId": "c1ba3ca1-e744-4705-aaf3-fd75f29ca8a9"
      },
      "execution_count": null,
      "outputs": [
        {
          "output_type": "error",
          "ename": "NameError",
          "evalue": "ignored",
          "traceback": [
            "\u001b[0;31m---------------------------------------------------------------------------\u001b[0m",
            "\u001b[0;31mNameError\u001b[0m                                 Traceback (most recent call last)",
            "\u001b[0;32m<ipython-input-9-afd1be4f8af4>\u001b[0m in \u001b[0;36m<cell line: 1>\u001b[0;34m()\u001b[0m\n\u001b[0;32m----> 1\u001b[0;31m \u001b[0mprint\u001b[0m\u001b[0;34m(\u001b[0m\u001b[0mobj\u001b[0m\u001b[0;34m.\u001b[0m\u001b[0mmodel\u001b[0m\u001b[0;34m)\u001b[0m\u001b[0;34m\u001b[0m\u001b[0;34m\u001b[0m\u001b[0m\n\u001b[0m",
            "\u001b[0;31mNameError\u001b[0m: name 'obj' is not defined"
          ]
        }
      ]
    },
    {
      "cell_type": "markdown",
      "source": [
        "OBJECT WITH FUNCTION"
      ],
      "metadata": {
        "id": "CKPZTiHUoyRR"
      }
    },
    {
      "cell_type": "code",
      "source": [
        "class student:\n",
        "  def __init__ (self,name,course,dept):\n",
        "   self.name=name\n",
        "   self.course=course\n",
        "   self.dept=dept\n",
        "  def college (g):\n",
        "    print(\"The student name is\"+g.name)\n",
        "    print(\"She is a good student\")\n",
        "obj=student(\"Suki\",\"Python\",\"CSE\")\n",
        "print(obj.name)\n",
        "print(obj.course)\n",
        "print(obj.dept)\n",
        "obj.college()\n"
      ],
      "metadata": {
        "colab": {
          "base_uri": "https://localhost:8080/"
        },
        "id": "kA5ga-jkiqq8",
        "outputId": "7ca3ba21-5269-4343-da61-3b3ea48a2ba7"
      },
      "execution_count": null,
      "outputs": [
        {
          "output_type": "stream",
          "name": "stdout",
          "text": [
            "Suki\n",
            "Python\n",
            "CSE\n",
            "The student name isSuki\n",
            "She is a good student\n"
          ]
        }
      ]
    },
    {
      "cell_type": "markdown",
      "source": [
        "PASS"
      ],
      "metadata": {
        "id": "KPHKptnuqra1"
      }
    },
    {
      "cell_type": "code",
      "source": [
        "class classroom:\n",
        "  pass"
      ],
      "metadata": {
        "id": "cQwX9u6liquR"
      },
      "execution_count": null,
      "outputs": []
    },
    {
      "cell_type": "code",
      "source": [
        "for i in range(0):\n",
        " pass"
      ],
      "metadata": {
        "id": "Sgg0Neduql3r"
      },
      "execution_count": null,
      "outputs": []
    },
    {
      "cell_type": "code",
      "source": [
        "while():\n",
        " pass"
      ],
      "metadata": {
        "id": "nsU8CY3Sql5p"
      },
      "execution_count": null,
      "outputs": []
    },
    {
      "cell_type": "code",
      "source": [
        "for i in \"python\":\n",
        "  print(i)\n",
        "  pass"
      ],
      "metadata": {
        "colab": {
          "base_uri": "https://localhost:8080/"
        },
        "id": "L2z_sWWaql89",
        "outputId": "89629747-cc2f-4a06-e1cd-da387980109e"
      },
      "execution_count": null,
      "outputs": [
        {
          "output_type": "stream",
          "name": "stdout",
          "text": [
            "p\n",
            "y\n",
            "t\n",
            "h\n",
            "o\n",
            "n\n"
          ]
        }
      ]
    },
    {
      "cell_type": "code",
      "source": [
        "for i in \"python\":\n",
        "  pass\n",
        "  print(i)\n"
      ],
      "metadata": {
        "colab": {
          "base_uri": "https://localhost:8080/"
        },
        "id": "jvRdKcgBqmAH",
        "outputId": "fd5a8d18-78c3-4717-fe8e-6545bd38b462"
      },
      "execution_count": null,
      "outputs": [
        {
          "output_type": "stream",
          "name": "stdout",
          "text": [
            "p\n",
            "y\n",
            "t\n",
            "h\n",
            "o\n",
            "n\n"
          ]
        }
      ]
    },
    {
      "cell_type": "code",
      "source": [
        "for i in \"python\":\n",
        "  pass\n",
        "print(i)"
      ],
      "metadata": {
        "colab": {
          "base_uri": "https://localhost:8080/"
        },
        "id": "SEC1jKr7qmDu",
        "outputId": "dd935b1b-cb78-44a3-c5b7-09960e28db8c"
      },
      "execution_count": null,
      "outputs": [
        {
          "output_type": "stream",
          "name": "stdout",
          "text": [
            "n\n"
          ]
        }
      ]
    },
    {
      "cell_type": "code",
      "source": [
        "for i in \"python\":\n",
        "  pass\n",
        "  print()\n"
      ],
      "metadata": {
        "colab": {
          "base_uri": "https://localhost:8080/"
        },
        "id": "E1_OmuK7qmHS",
        "outputId": "8b5c3e1d-bbf0-4494-95a7-10ced571a6ba"
      },
      "execution_count": null,
      "outputs": [
        {
          "output_type": "stream",
          "name": "stdout",
          "text": [
            "\n",
            "\n",
            "\n",
            "\n",
            "\n",
            "\n"
          ]
        }
      ]
    },
    {
      "cell_type": "markdown",
      "source": [
        "INHERITANCE"
      ],
      "metadata": {
        "id": "oeogoMnBrzwi"
      }
    },
    {
      "cell_type": "code",
      "source": [
        "class student:\n",
        "  def __init__ (self,name,course,dept):\n",
        "   self.name=name\n",
        "   self.course=course\n",
        "   self.dept=dept\n",
        "  def college (g):\n",
        "    print(\"The student name is\"+g.name)\n",
        "    print(\"She is a good student\")\n",
        "obj=student(\"Suki\",\"Python\",\"CSE\")\n",
        "print(obj.name)\n",
        "print(obj.course)\n",
        "print(obj.dept)\n",
        "obj.college()\n",
        "class Roll_no_1 (student):\n",
        " pass\n",
        "\n",
        "obj1=Roll_no_1(\"Maki\",\"Tally\",\"B.Com\")\n",
        "print(obj1.name)\n",
        "print(obj1.course)\n",
        "print(obj1.dept)\n",
        "obj1.college()\n"
      ],
      "metadata": {
        "colab": {
          "base_uri": "https://localhost:8080/"
        },
        "id": "N5NdrERiruUn",
        "outputId": "6511ec21-4673-4552-8713-68429a2ae0dc"
      },
      "execution_count": null,
      "outputs": [
        {
          "output_type": "stream",
          "name": "stdout",
          "text": [
            "Suki\n",
            "Python\n",
            "CSE\n",
            "The student name isSuki\n",
            "She is a good student\n",
            "Maki\n",
            "Tally\n",
            "B.Com\n",
            "The student name isMaki\n",
            "She is a good student\n"
          ]
        }
      ]
    },
    {
      "cell_type": "code",
      "source": [
        "class dress:\n",
        "  def __init__ (suki,name,prize,color):\n",
        "   suki.Name=name\n",
        "   suki.Prize=prize\n",
        "   suki.Color=color\n",
        "obj1=dress(\"Chudi\",1800,\"Red\")\n",
        "print(obj1.Name)\n",
        "print(obj1.Prize)\n",
        "print(obj1.Color)\n",
        "class chudi_details(dress):\n",
        "  def swing(l):\n",
        "    print(\"This is long\"+l.Name)\n",
        "  def swing1(s):\n",
        "    print(\"This is short\"+s.Name)\n",
        "obj2=chudi_details(\"Anarkali\",1200,\"Green\")\n",
        "print(obj2.Name)\n",
        "print(obj2.Prize)\n",
        "print(obj2.Color)\n",
        "obj2.swing()\n",
        "obj2.swing1()\n"
      ],
      "metadata": {
        "colab": {
          "base_uri": "https://localhost:8080/"
        },
        "id": "TZRXM_TRruWf",
        "outputId": "d44d3dc5-d427-4965-b773-5414c2f47351"
      },
      "execution_count": null,
      "outputs": [
        {
          "output_type": "stream",
          "name": "stdout",
          "text": [
            "Chudi\n",
            "1800\n",
            "Red\n",
            "Anarkali\n",
            "1200\n",
            "Green\n",
            "This is longAnarkali\n",
            "This is shortAnarkali\n"
          ]
        }
      ]
    },
    {
      "cell_type": "code",
      "source": [
        "class dress:\n",
        "  def __init__ (suki,name,prize,color):\n",
        "   suki.Name=name\n",
        "   suki.Prize=prize\n",
        "   suki.Color=color\n",
        "  def swing(l):\n",
        "    print(\"This is long\"+l.Name)\n",
        "  def swing1(s):\n",
        "    print(\"This is short\"+s.Name)\n",
        "obj1=dress(\"Chudi\",1800,\"Red\")\n",
        "print(obj1.Name)\n",
        "print(obj1.Prize)\n",
        "print(obj1.Color)\n",
        "obj1.swing()\n",
        "obj1.swing1()\n",
        "class chudi_details(dress):\n",
        "  pass\n",
        "obj2=chudi_details(\"Anarkali\",1200,\"Green\")\n",
        "print(obj2.Name)\n",
        "print(obj2.Prize)\n",
        "print(obj2.Color)\n",
        "obj2.swing()\n",
        "obj2.swing1()"
      ],
      "metadata": {
        "colab": {
          "base_uri": "https://localhost:8080/"
        },
        "id": "wldHkU5kruaA",
        "outputId": "bd87cf0d-7f03-4caf-82e4-1932234219e8"
      },
      "execution_count": null,
      "outputs": [
        {
          "output_type": "stream",
          "name": "stdout",
          "text": [
            "Chudi\n",
            "1800\n",
            "Red\n",
            "This is longChudi\n",
            "This is shortChudi\n",
            "Anarkali\n",
            "1200\n",
            "Green\n",
            "This is longAnarkali\n",
            "This is shortAnarkali\n"
          ]
        }
      ]
    },
    {
      "cell_type": "markdown",
      "source": [
        "ENCAPSULATION\n"
      ],
      "metadata": {
        "id": "A2BEpUrXxggp"
      }
    },
    {
      "cell_type": "markdown",
      "source": [
        "public"
      ],
      "metadata": {
        "id": "raOxLBvyxn6b"
      }
    },
    {
      "cell_type": "code",
      "source": [
        "class student:\n",
        "  def __init__ (self,name,course,dept):\n",
        "   self.name=name\n",
        "   self.course=course\n",
        "   self.dept=dept\n",
        "  def college (g):\n",
        "    print(\"The student name is\"+g.name)\n",
        "    print(\"She is a good student\")\n",
        "obj=student(\"Suki\",\"Python\",\"CSE\")\n",
        "print(obj.name)\n",
        "print(obj.course)\n",
        "print(obj.dept)\n",
        "obj.college()\n",
        "class Roll_no_1 (student):\n",
        " pass\n",
        "\n",
        "obj1=Roll_no_1(\"Maki\",\"Tally\",\"B.Com\")\n",
        "print(obj1.name)\n",
        "print(obj1.course)\n",
        "print(obj1.dept)\n",
        "obj1.college()"
      ],
      "metadata": {
        "id": "FIfrNXbnruot",
        "colab": {
          "base_uri": "https://localhost:8080/",
          "height": 0
        },
        "outputId": "e37a3b81-baf6-4ef6-a86a-89cc961d2f21"
      },
      "execution_count": 37,
      "outputs": [
        {
          "output_type": "stream",
          "name": "stdout",
          "text": [
            "Suki\n",
            "Python\n",
            "CSE\n",
            "The student name isSuki\n",
            "She is a good student\n",
            "Maki\n",
            "Tally\n",
            "B.Com\n",
            "The student name isMaki\n",
            "She is a good student\n"
          ]
        }
      ]
    },
    {
      "cell_type": "markdown",
      "source": [
        "PRIVATE\n"
      ],
      "metadata": {
        "id": "hqqlgTSV4jWu"
      }
    },
    {
      "cell_type": "markdown",
      "source": [
        "CREATE PIUBLIC METHOD TO ACCESS PRIVATE MEMBERS"
      ],
      "metadata": {
        "id": "P1OMNdMd4wx9"
      }
    },
    {
      "cell_type": "code",
      "source": [
        "class car:\n",
        "  def __init__ (suki,name,model,EngineNo):\n",
        "    suki.name=name\n",
        "    suki.model=model\n",
        "    suki.__EngineNo=EngineNo\n",
        "  def Drive(self):\n",
        "   print(self.__EngineNo)\n",
        "   print(\"!!!Testing completed!!!\")\n",
        "obj=car(\"Baleno\",4365,\"GT-344573\")\n",
        "print(obj.name)\n",
        "print(obj.model)\n",
        "obj.Drive()"
      ],
      "metadata": {
        "colab": {
          "base_uri": "https://localhost:8080/",
          "height": 0
        },
        "id": "M7D7M1OS4oJT",
        "outputId": "76ce4b9b-e1c6-4730-8594-eee041ba7782"
      },
      "execution_count": 40,
      "outputs": [
        {
          "output_type": "stream",
          "name": "stdout",
          "text": [
            "Baleno\n",
            "4365\n",
            "GT-344573\n",
            "!!!Testing completed!!!\n"
          ]
        }
      ]
    },
    {
      "cell_type": "markdown",
      "source": [
        "MANGLING METHOD\n"
      ],
      "metadata": {
        "id": "sEqOW2j-6Vu-"
      }
    },
    {
      "cell_type": "code",
      "source": [
        "class car:\n",
        "  def __init__ (suki,name,model,EngineNo):\n",
        "    suki.name=name\n",
        "    suki.model=model\n",
        "    suki.__EngineNo=EngineNo\n",
        "  def Drive(self):\n",
        "   print(self.__EngineNo)\n",
        "   print(\"*****Testing completed*****\")\n",
        "obj=car(\"Baleno\",4365,\"GT-344573\")\n",
        "print(obj.name)\n",
        "print(obj.model)\n",
        "print(obj._car__EngineNo)\n",
        "obj.Drive()"
      ],
      "metadata": {
        "id": "ojRyRvn4xlJZ",
        "colab": {
          "base_uri": "https://localhost:8080/",
          "height": 0
        },
        "outputId": "c3235c81-d907-4ffb-be6b-c985bfb37e8b"
      },
      "execution_count": 41,
      "outputs": [
        {
          "output_type": "stream",
          "name": "stdout",
          "text": [
            "Baleno\n",
            "4365\n",
            "GT-344573\n",
            "GT-344573\n",
            "*****Testing completed*****\n"
          ]
        }
      ]
    },
    {
      "cell_type": "markdown",
      "source": [
        "PROTECTED\n"
      ],
      "metadata": {
        "id": "LKZVp3tX65pa"
      }
    },
    {
      "cell_type": "code",
      "source": [
        "class car:\n",
        "  def __init__ (suki,name,model,EngineNo):\n",
        "    suki._name=name\n",
        "    suki._model=model\n",
        "    suki._EngineNo=EngineNo\n",
        "obj=car(\"Baleno\",4365,\"GT-344573\")\n",
        "print(obj._name)\n",
        "print(obj._model)\n",
        "print(obj._EngineNo)\n",
        ""
      ],
      "metadata": {
        "id": "z4JVU_OgxlPv",
        "colab": {
          "base_uri": "https://localhost:8080/",
          "height": 0
        },
        "outputId": "6b21dbcf-93f9-462f-fe04-221eecbbf81e"
      },
      "execution_count": 47,
      "outputs": [
        {
          "output_type": "stream",
          "name": "stdout",
          "text": [
            "Baleno\n",
            "4365\n",
            "GT-344573\n"
          ]
        }
      ]
    },
    {
      "cell_type": "code",
      "source": [
        "class employee:\n",
        "  def __init__ (suki,name,sal):\n",
        "    suki._name=name\n",
        "    suki._salary=sal\n",
        "emp=employee(\"Suki\",40000)\n",
        "print(emp._name)\n",
        "print(emp._salary)"
      ],
      "metadata": {
        "colab": {
          "base_uri": "https://localhost:8080/",
          "height": 0
        },
        "id": "7cy4Q-5_7m7S",
        "outputId": "554f2c01-e164-4827-a29f-a36345fc6507"
      },
      "execution_count": 48,
      "outputs": [
        {
          "output_type": "stream",
          "name": "stdout",
          "text": [
            "Suki\n",
            "40000\n"
          ]
        }
      ]
    },
    {
      "cell_type": "code",
      "source": [
        "class HR(employee):\n",
        "  def task(self):\n",
        "   print(self._name+ \" is a good employee\")\n",
        "obj1=HR(\"Suki\",30000)\n",
        "print(obj1._name)\n",
        "print(obj1._salary)\n",
        "obj1.task()"
      ],
      "metadata": {
        "colab": {
          "base_uri": "https://localhost:8080/",
          "height": 0
        },
        "id": "uVSTXzmd7m9c",
        "outputId": "dd3883fe-70bc-4a36-8caf-8a5c6e2ba9da"
      },
      "execution_count": 62,
      "outputs": [
        {
          "output_type": "stream",
          "name": "stdout",
          "text": [
            "Suki\n",
            "30000\n",
            "Suki is a good employee\n"
          ]
        }
      ]
    },
    {
      "cell_type": "code",
      "source": [
        "class emp2(employee):\n",
        "  def task(self):\n",
        "    print(self._name+\" is very dedicative in work\")\n",
        "obj2=emp2(\"maki\",45000)\n",
        "print(obj2._name)\n",
        "print(obj2._salary)\n",
        "obj2.task()"
      ],
      "metadata": {
        "colab": {
          "base_uri": "https://localhost:8080/",
          "height": 0
        },
        "id": "_O0OcgKA7nBZ",
        "outputId": "06d94923-843f-4408-bcc6-ad26e81da875"
      },
      "execution_count": 63,
      "outputs": [
        {
          "output_type": "stream",
          "name": "stdout",
          "text": [
            "maki\n",
            "45000\n",
            "maki is very dedicative in work\n"
          ]
        }
      ]
    },
    {
      "cell_type": "code",
      "source": [],
      "metadata": {
        "id": "7ZlBeR6w7nL0"
      },
      "execution_count": null,
      "outputs": []
    }
  ]
}