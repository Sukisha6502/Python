{
  "nbformat": 4,
  "nbformat_minor": 0,
  "metadata": {
    "colab": {
      "provenance": []
    },
    "kernelspec": {
      "name": "python3",
      "display_name": "Python 3"
    },
    "language_info": {
      "name": "python"
    }
  },
  "cells": [
    {
      "cell_type": "markdown",
      "source": [
        "**DATA STRUCTURES**\n",
        "\n",
        "\n"
      ],
      "metadata": {
        "id": "vBP4vob4g-Wa"
      }
    },
    {
      "cell_type": "markdown",
      "source": [
        "**1.** **LIST**"
      ],
      "metadata": {
        "id": "03PQx4Nhhvtg"
      }
    },
    {
      "cell_type": "markdown",
      "source": [
        "* Collection of homogeneous and hetrogeneous elements.\n",
        "* Represented by square brakets[].\n",
        "* It allows duplicates.\n",
        "* It is ordered and mutable"
      ],
      "metadata": {
        "id": "9N5bo953h9Ai"
      }
    },
    {
      "cell_type": "code",
      "source": [
        "l=[23,345,12,'Suki',67.55,True,43]\n",
        "l"
      ],
      "metadata": {
        "colab": {
          "base_uri": "https://localhost:8080/"
        },
        "id": "-dWw27rJilja",
        "outputId": "997543ca-2eca-4cf1-bbc4-402942625a2a"
      },
      "execution_count": 11,
      "outputs": [
        {
          "output_type": "execute_result",
          "data": {
            "text/plain": [
              "[23, 345, 12, 'Suki', 67.55, True, 43]"
            ]
          },
          "metadata": {},
          "execution_count": 11
        }
      ]
    },
    {
      "cell_type": "markdown",
      "source": [
        "append() - Add the value at the end."
      ],
      "metadata": {
        "id": "MyGANzzXkFr5"
      }
    },
    {
      "cell_type": "code",
      "source": [
        "l.append(78)\n",
        "l"
      ],
      "metadata": {
        "colab": {
          "base_uri": "https://localhost:8080/"
        },
        "id": "AYQzP1kSjdcc",
        "outputId": "e6126629-3ad2-4bac-bef0-0ef2d318239b"
      },
      "execution_count": 12,
      "outputs": [
        {
          "output_type": "execute_result",
          "data": {
            "text/plain": [
              "[23, 345, 12, 'Suki', 67.55, True, 43, 78]"
            ]
          },
          "metadata": {},
          "execution_count": 12
        }
      ]
    },
    {
      "cell_type": "markdown",
      "source": [
        "type() - Show the data type."
      ],
      "metadata": {
        "id": "USvbXZR4kaAn"
      }
    },
    {
      "cell_type": "code",
      "source": [
        "print(type(l))"
      ],
      "metadata": {
        "colab": {
          "base_uri": "https://localhost:8080/"
        },
        "id": "i3WzLB7Xjdew",
        "outputId": "a8123209-d317-47d6-9bb6-d039544b68f1"
      },
      "execution_count": 13,
      "outputs": [
        {
          "output_type": "stream",
          "name": "stdout",
          "text": [
            "<class 'list'>\n"
          ]
        }
      ]
    },
    {
      "cell_type": "markdown",
      "source": [
        "insert() - Insert the element at the specific index"
      ],
      "metadata": {
        "id": "aen709o9lUth"
      }
    },
    {
      "cell_type": "code",
      "source": [
        "l.insert(5,65)\n",
        "l"
      ],
      "metadata": {
        "colab": {
          "base_uri": "https://localhost:8080/"
        },
        "id": "ylXhiUvkjdhh",
        "outputId": "1c7c10fb-8dde-461a-ea96-c0d167ed9d49"
      },
      "execution_count": 14,
      "outputs": [
        {
          "output_type": "execute_result",
          "data": {
            "text/plain": [
              "[23, 345, 12, 'Suki', 67.55, 65, True, 43, 78]"
            ]
          },
          "metadata": {},
          "execution_count": 14
        }
      ]
    },
    {
      "cell_type": "markdown",
      "source": [
        "Index - We can add the element using index"
      ],
      "metadata": {
        "id": "7uMyl52_lf1p"
      }
    },
    {
      "cell_type": "code",
      "source": [
        "l[3]=48\n",
        "l"
      ],
      "metadata": {
        "colab": {
          "base_uri": "https://localhost:8080/"
        },
        "id": "ETcCM-1bjdk3",
        "outputId": "03e273dc-5469-4152-f2b1-18c9b57f0d8b"
      },
      "execution_count": 15,
      "outputs": [
        {
          "output_type": "execute_result",
          "data": {
            "text/plain": [
              "[23, 345, 12, 48, 67.55, 65, True, 43, 78]"
            ]
          },
          "metadata": {},
          "execution_count": 15
        }
      ]
    },
    {
      "cell_type": "markdown",
      "source": [
        "remove() - Remove the particular element"
      ],
      "metadata": {
        "id": "zLLhpzpIlyjn"
      }
    },
    {
      "cell_type": "code",
      "source": [
        "l.remove(65)\n",
        "l"
      ],
      "metadata": {
        "colab": {
          "base_uri": "https://localhost:8080/"
        },
        "id": "Fm8j1uE_jdog",
        "outputId": "e1614192-2328-49c7-8001-7fcd05b45115"
      },
      "execution_count": 16,
      "outputs": [
        {
          "output_type": "execute_result",
          "data": {
            "text/plain": [
              "[23, 345, 12, 48, 67.55, True, 43, 78]"
            ]
          },
          "metadata": {},
          "execution_count": 16
        }
      ]
    },
    {
      "cell_type": "markdown",
      "source": [
        "pop() - Removes the last element"
      ],
      "metadata": {
        "id": "FcdhIvmEmL0X"
      }
    },
    {
      "cell_type": "code",
      "source": [
        "l.pop()\n",
        "l"
      ],
      "metadata": {
        "colab": {
          "base_uri": "https://localhost:8080/"
        },
        "id": "1VTnLpxxmTSX",
        "outputId": "9a3f1c60-7be2-4813-be40-fb606397b903"
      },
      "execution_count": 17,
      "outputs": [
        {
          "output_type": "execute_result",
          "data": {
            "text/plain": [
              "[23, 345, 12, 48, 67.55, True, 43]"
            ]
          },
          "metadata": {},
          "execution_count": 17
        }
      ]
    },
    {
      "cell_type": "markdown",
      "source": [
        "pop(index) - Remove the element using index"
      ],
      "metadata": {
        "id": "9JPaR5vdmaBb"
      }
    },
    {
      "cell_type": "code",
      "source": [
        "l.pop(2)\n",
        "l"
      ],
      "metadata": {
        "colab": {
          "base_uri": "https://localhost:8080/"
        },
        "id": "WoEGxU80mk6x",
        "outputId": "210f3a38-7871-4550-ccbd-365dcf671917"
      },
      "execution_count": 18,
      "outputs": [
        {
          "output_type": "execute_result",
          "data": {
            "text/plain": [
              "[23, 345, 48, 67.55, True, 43]"
            ]
          },
          "metadata": {},
          "execution_count": 18
        }
      ]
    },
    {
      "cell_type": "markdown",
      "source": [
        "Replication"
      ],
      "metadata": {
        "id": "R2FU11fOms9l"
      }
    },
    {
      "cell_type": "code",
      "source": [
        "l*5"
      ],
      "metadata": {
        "colab": {
          "base_uri": "https://localhost:8080/"
        },
        "id": "E8Z-wWirmzf1",
        "outputId": "07df348b-a53e-4dc0-fa6a-8b223974a3d0"
      },
      "execution_count": 19,
      "outputs": [
        {
          "output_type": "execute_result",
          "data": {
            "text/plain": [
              "[23,\n",
              " 345,\n",
              " 48,\n",
              " 67.55,\n",
              " True,\n",
              " 43,\n",
              " 23,\n",
              " 345,\n",
              " 48,\n",
              " 67.55,\n",
              " True,\n",
              " 43,\n",
              " 23,\n",
              " 345,\n",
              " 48,\n",
              " 67.55,\n",
              " True,\n",
              " 43,\n",
              " 23,\n",
              " 345,\n",
              " 48,\n",
              " 67.55,\n",
              " True,\n",
              " 43,\n",
              " 23,\n",
              " 345,\n",
              " 48,\n",
              " 67.55,\n",
              " True,\n",
              " 43]"
            ]
          },
          "metadata": {},
          "execution_count": 19
        }
      ]
    },
    {
      "cell_type": "markdown",
      "source": [
        "count() - Counts the element"
      ],
      "metadata": {
        "id": "yOYHIAZym4rt"
      }
    },
    {
      "cell_type": "code",
      "source": [
        "l.count(48)\n"
      ],
      "metadata": {
        "colab": {
          "base_uri": "https://localhost:8080/"
        },
        "id": "ARirwYXFnDSt",
        "outputId": "9a92f1de-526a-46be-e9ff-6b5f5aa397ea"
      },
      "execution_count": 21,
      "outputs": [
        {
          "output_type": "execute_result",
          "data": {
            "text/plain": [
              "1"
            ]
          },
          "metadata": {},
          "execution_count": 21
        }
      ]
    },
    {
      "cell_type": "markdown",
      "source": [
        "copy() - Copy the list"
      ],
      "metadata": {
        "id": "j8OYizu-nUJy"
      }
    },
    {
      "cell_type": "code",
      "source": [
        "a=l.copy()\n",
        "a"
      ],
      "metadata": {
        "colab": {
          "base_uri": "https://localhost:8080/"
        },
        "id": "65jG48QlnbIk",
        "outputId": "94f12e98-26a4-49d5-c2af-91ee507c52b3"
      },
      "execution_count": 25,
      "outputs": [
        {
          "output_type": "execute_result",
          "data": {
            "text/plain": [
              "[23, 345, 48, 67.55, True, 43]"
            ]
          },
          "metadata": {},
          "execution_count": 25
        }
      ]
    },
    {
      "cell_type": "markdown",
      "source": [
        "extend() - Add another list at the end of the list"
      ],
      "metadata": {
        "id": "7u7ifFSPn3kL"
      }
    },
    {
      "cell_type": "code",
      "source": [
        "b=[245,56.68,14,29]\n",
        "a.extend(b)\n",
        "a"
      ],
      "metadata": {
        "colab": {
          "base_uri": "https://localhost:8080/"
        },
        "id": "aRQNPvAaoYqh",
        "outputId": "6e7c5b2a-df66-41d0-fb92-da7694b1fc35"
      },
      "execution_count": 26,
      "outputs": [
        {
          "output_type": "execute_result",
          "data": {
            "text/plain": [
              "[23, 345, 48, 67.55, True, 43, 245, 56.68, 14, 29]"
            ]
          },
          "metadata": {},
          "execution_count": 26
        }
      ]
    },
    {
      "cell_type": "markdown",
      "source": [
        "reverse() - Reverse the list"
      ],
      "metadata": {
        "id": "flhIhjC9oq06"
      }
    },
    {
      "cell_type": "code",
      "source": [
        "a.reverse()\n",
        "a"
      ],
      "metadata": {
        "colab": {
          "base_uri": "https://localhost:8080/"
        },
        "id": "BknWrtUHozCZ",
        "outputId": "bf76fae0-e4b3-439b-cee5-bb1932d3a1f3"
      },
      "execution_count": 29,
      "outputs": [
        {
          "output_type": "execute_result",
          "data": {
            "text/plain": [
              "[29, 14, 56.68, 245, 43, True, 67.55, 48, 345, 23]"
            ]
          },
          "metadata": {},
          "execution_count": 29
        }
      ]
    },
    {
      "cell_type": "markdown",
      "source": [
        "clear - [ ]empty the list"
      ],
      "metadata": {
        "id": "YsQjis6Fo9OB"
      }
    },
    {
      "cell_type": "code",
      "source": [
        "a.clear\n"
      ],
      "metadata": {
        "colab": {
          "base_uri": "https://localhost:8080/"
        },
        "id": "BtAq9-MspEx-",
        "outputId": "0eaaa20f-d936-4f41-e2b9-06ad0685a3dc"
      },
      "execution_count": 34,
      "outputs": [
        {
          "output_type": "execute_result",
          "data": {
            "text/plain": [
              "<function list.clear()>"
            ]
          },
          "metadata": {},
          "execution_count": 34
        }
      ]
    },
    {
      "cell_type": "markdown",
      "source": [
        "del - delete the list"
      ],
      "metadata": {
        "id": "CRFbpj0OpQaj"
      }
    },
    {
      "cell_type": "code",
      "source": [
        "del a"
      ],
      "metadata": {
        "id": "6BHOjD88pY0l"
      },
      "execution_count": 35,
      "outputs": []
    },
    {
      "cell_type": "markdown",
      "source": [
        "sort() - Sorting the list in ascending or decending order"
      ],
      "metadata": {
        "id": "odFNvNcOpzCN"
      }
    },
    {
      "cell_type": "code",
      "source": [
        "a=[13,466,23,12,77,35,65]\n",
        "a.sort()\n",
        "a"
      ],
      "metadata": {
        "colab": {
          "base_uri": "https://localhost:8080/"
        },
        "id": "ILVYM7ltpayA",
        "outputId": "3fc69d4c-31ab-499b-baa2-d4bf3af24fd9"
      },
      "execution_count": 38,
      "outputs": [
        {
          "output_type": "execute_result",
          "data": {
            "text/plain": [
              "[12, 13, 23, 35, 65, 77, 466]"
            ]
          },
          "metadata": {},
          "execution_count": 38
        }
      ]
    },
    {
      "cell_type": "code",
      "source": [
        "a.sort (reverse=True)\n",
        "a"
      ],
      "metadata": {
        "colab": {
          "base_uri": "https://localhost:8080/"
        },
        "id": "ySEUO3I6rGnS",
        "outputId": "73d22a8d-0e98-4c7c-ef3e-e1232cea21ff"
      },
      "execution_count": 40,
      "outputs": [
        {
          "output_type": "execute_result",
          "data": {
            "text/plain": [
              "[466, 77, 65, 35, 23, 13, 12]"
            ]
          },
          "metadata": {},
          "execution_count": 40
        }
      ]
    },
    {
      "cell_type": "code",
      "source": [
        "a.sort(reverse=False)\n",
        "a"
      ],
      "metadata": {
        "colab": {
          "base_uri": "https://localhost:8080/"
        },
        "id": "rrCAxyvCrnT2",
        "outputId": "cd16d551-0745-4d08-bc76-0bde83b07b1b"
      },
      "execution_count": 41,
      "outputs": [
        {
          "output_type": "execute_result",
          "data": {
            "text/plain": [
              "[12, 13, 23, 35, 65, 77, 466]"
            ]
          },
          "metadata": {},
          "execution_count": 41
        }
      ]
    },
    {
      "cell_type": "markdown",
      "source": [
        "len() - Find the length of the list"
      ],
      "metadata": {
        "id": "nvGw0Qs1ruqy"
      }
    },
    {
      "cell_type": "code",
      "source": [
        "len(a)"
      ],
      "metadata": {
        "colab": {
          "base_uri": "https://localhost:8080/"
        },
        "id": "T0qyYnFzr2_A",
        "outputId": "3026d85a-5e76-4527-a85c-ceea87e4c073"
      },
      "execution_count": 42,
      "outputs": [
        {
          "output_type": "execute_result",
          "data": {
            "text/plain": [
              "7"
            ]
          },
          "metadata": {},
          "execution_count": 42
        }
      ]
    },
    {
      "cell_type": "markdown",
      "source": [
        "Slicing - [start:stop-1:step value]"
      ],
      "metadata": {
        "id": "0yrI9gu2sBeG"
      }
    },
    {
      "cell_type": "code",
      "source": [
        "print(a[0])\n",
        "print(a[2:6])\n",
        "print(a[:7:3])\n",
        "print(a[::-1])\n",
        "print(a[-1])"
      ],
      "metadata": {
        "colab": {
          "base_uri": "https://localhost:8080/"
        },
        "id": "8okMSmiMsFIc",
        "outputId": "97de4390-7b7a-4ec1-deee-a1ab2d64f966"
      },
      "execution_count": 50,
      "outputs": [
        {
          "output_type": "stream",
          "name": "stdout",
          "text": [
            "12\n",
            "[23, 35, 65, 77]\n",
            "[12, 35, 466]\n",
            "[466, 77, 65, 35, 23, 13, 12]\n",
            "466\n"
          ]
        }
      ]
    },
    {
      "cell_type": "markdown",
      "source": [
        "min(),max() - Find the minimum and the maximum element in the list"
      ],
      "metadata": {
        "id": "rFxVgJs3tJjT"
      }
    },
    {
      "cell_type": "code",
      "source": [
        "min(a)"
      ],
      "metadata": {
        "colab": {
          "base_uri": "https://localhost:8080/"
        },
        "id": "NccG64-dtRnP",
        "outputId": "a067753c-9422-4dc4-9de9-60beef839764"
      },
      "execution_count": 51,
      "outputs": [
        {
          "output_type": "execute_result",
          "data": {
            "text/plain": [
              "12"
            ]
          },
          "metadata": {},
          "execution_count": 51
        }
      ]
    },
    {
      "cell_type": "code",
      "source": [
        "max(a)"
      ],
      "metadata": {
        "colab": {
          "base_uri": "https://localhost:8080/"
        },
        "id": "IEC0ZGu-tYcb",
        "outputId": "463e16c2-7dfb-4db2-fabe-8ff9e581b70d"
      },
      "execution_count": 52,
      "outputs": [
        {
          "output_type": "execute_result",
          "data": {
            "text/plain": [
              "466"
            ]
          },
          "metadata": {},
          "execution_count": 52
        }
      ]
    },
    {
      "cell_type": "markdown",
      "source": [
        "**2. TUPLE**"
      ],
      "metadata": {
        "id": "GRWP-ZCKtdeb"
      }
    },
    {
      "cell_type": "markdown",
      "source": [
        "* Collection of homogeneous and hetrogeneous elements.\n",
        "* Represented by parenthesis ().\n",
        "* It allows duplicate.\n",
        "* It is ordered and immutable."
      ],
      "metadata": {
        "id": "cLlp4V2ItowB"
      }
    },
    {
      "cell_type": "code",
      "source": [
        "t=(25,13,63,58,'Suki',True,35.68)\n",
        "t"
      ],
      "metadata": {
        "colab": {
          "base_uri": "https://localhost:8080/"
        },
        "id": "nWoP8tMPuJqk",
        "outputId": "fb2f48d5-f2f8-41d7-e9d5-84e75a7a2ba8"
      },
      "execution_count": 53,
      "outputs": [
        {
          "output_type": "execute_result",
          "data": {
            "text/plain": [
              "(25, 13, 63, 58, 'Suki', True, 35.68)"
            ]
          },
          "metadata": {},
          "execution_count": 53
        }
      ]
    },
    {
      "cell_type": "markdown",
      "source": [
        "Concatenation - Join two tuples"
      ],
      "metadata": {
        "id": "zqbrWegMuXBQ"
      }
    },
    {
      "cell_type": "code",
      "source": [
        "a=(1,2,3,4,5)\n",
        "b=(6,7,8,9,10)\n",
        "c=a+b\n",
        "c"
      ],
      "metadata": {
        "colab": {
          "base_uri": "https://localhost:8080/"
        },
        "id": "h2z86-5WudDE",
        "outputId": "30fcdf94-9b25-4c27-d7d2-03af47f05459"
      },
      "execution_count": 54,
      "outputs": [
        {
          "output_type": "execute_result",
          "data": {
            "text/plain": [
              "(1, 2, 3, 4, 5, 6, 7, 8, 9, 10)"
            ]
          },
          "metadata": {},
          "execution_count": 54
        }
      ]
    },
    {
      "cell_type": "markdown",
      "source": [
        "type() - Find the data type"
      ],
      "metadata": {
        "id": "XpSOicbNunz4"
      }
    },
    {
      "cell_type": "code",
      "source": [
        "print(type(t))"
      ],
      "metadata": {
        "colab": {
          "base_uri": "https://localhost:8080/"
        },
        "id": "lleptUQJuwy3",
        "outputId": "f55d17ca-939b-42bf-b440-e650d533e337"
      },
      "execution_count": 55,
      "outputs": [
        {
          "output_type": "stream",
          "name": "stdout",
          "text": [
            "<class 'tuple'>\n"
          ]
        }
      ]
    },
    {
      "cell_type": "markdown",
      "source": [
        "len() - Find the length of the tuple"
      ],
      "metadata": {
        "id": "ML_69efkuzhs"
      }
    },
    {
      "cell_type": "code",
      "source": [
        "len(t)"
      ],
      "metadata": {
        "colab": {
          "base_uri": "https://localhost:8080/"
        },
        "id": "HUtvFETVu6Tz",
        "outputId": "5587e595-91d1-408a-9ec3-60152f06f9b7"
      },
      "execution_count": 56,
      "outputs": [
        {
          "output_type": "execute_result",
          "data": {
            "text/plain": [
              "7"
            ]
          },
          "metadata": {},
          "execution_count": 56
        }
      ]
    },
    {
      "cell_type": "markdown",
      "source": [
        "Replication"
      ],
      "metadata": {
        "id": "-M9G0pI-u9QJ"
      }
    },
    {
      "cell_type": "code",
      "source": [
        "t*4"
      ],
      "metadata": {
        "colab": {
          "base_uri": "https://localhost:8080/"
        },
        "id": "EwwfbjRMu_br",
        "outputId": "ba53b6b8-05cb-4c88-bb43-4ad094518891"
      },
      "execution_count": 57,
      "outputs": [
        {
          "output_type": "execute_result",
          "data": {
            "text/plain": [
              "(25,\n",
              " 13,\n",
              " 63,\n",
              " 58,\n",
              " 'Suki',\n",
              " True,\n",
              " 35.68,\n",
              " 25,\n",
              " 13,\n",
              " 63,\n",
              " 58,\n",
              " 'Suki',\n",
              " True,\n",
              " 35.68,\n",
              " 25,\n",
              " 13,\n",
              " 63,\n",
              " 58,\n",
              " 'Suki',\n",
              " True,\n",
              " 35.68,\n",
              " 25,\n",
              " 13,\n",
              " 63,\n",
              " 58,\n",
              " 'Suki',\n",
              " True,\n",
              " 35.68)"
            ]
          },
          "metadata": {},
          "execution_count": 57
        }
      ]
    },
    {
      "cell_type": "markdown",
      "source": [
        "min(), max() - Find the minimum and the maximum element in the tuple"
      ],
      "metadata": {
        "id": "AvoKE4cjvCaV"
      }
    },
    {
      "cell_type": "code",
      "source": [
        "min(c)"
      ],
      "metadata": {
        "colab": {
          "base_uri": "https://localhost:8080/"
        },
        "id": "2OIZAU3EvPRO",
        "outputId": "9106073d-d3c2-4059-e619-33febd07f7a9"
      },
      "execution_count": 60,
      "outputs": [
        {
          "output_type": "execute_result",
          "data": {
            "text/plain": [
              "1"
            ]
          },
          "metadata": {},
          "execution_count": 60
        }
      ]
    },
    {
      "cell_type": "code",
      "source": [
        "max(c)"
      ],
      "metadata": {
        "colab": {
          "base_uri": "https://localhost:8080/"
        },
        "id": "zEfjjOBtvRHT",
        "outputId": "dfe20408-f267-4336-c532-5106db95ab4f"
      },
      "execution_count": 61,
      "outputs": [
        {
          "output_type": "execute_result",
          "data": {
            "text/plain": [
              "10"
            ]
          },
          "metadata": {},
          "execution_count": 61
        }
      ]
    },
    {
      "cell_type": "markdown",
      "source": [
        "sorted() - Sorting the elements in the tuple"
      ],
      "metadata": {
        "id": "aZ9nbtRWvkVm"
      }
    },
    {
      "cell_type": "code",
      "source": [
        "a=(34,57,12,4,68,134,2)\n",
        "b=sorted(a)\n",
        "b"
      ],
      "metadata": {
        "colab": {
          "base_uri": "https://localhost:8080/"
        },
        "id": "uv8nMALxvsP5",
        "outputId": "e9e9ea39-fbf4-4717-b928-a0527bcdb7b1"
      },
      "execution_count": 63,
      "outputs": [
        {
          "output_type": "execute_result",
          "data": {
            "text/plain": [
              "[2, 4, 12, 34, 57, 68, 134]"
            ]
          },
          "metadata": {},
          "execution_count": 63
        }
      ]
    },
    {
      "cell_type": "markdown",
      "source": [
        "Tuple packing and unpacking"
      ],
      "metadata": {
        "id": "TfL3TfaWv8HJ"
      }
    },
    {
      "cell_type": "code",
      "source": [
        "a=(1,2,3)\n",
        "x,y,z=a\n"
      ],
      "metadata": {
        "id": "SI-aFOPtwReW"
      },
      "execution_count": 64,
      "outputs": []
    },
    {
      "cell_type": "code",
      "source": [
        "x"
      ],
      "metadata": {
        "colab": {
          "base_uri": "https://localhost:8080/"
        },
        "id": "g7jito5DwjEW",
        "outputId": "df4d8f94-b1a2-4bc8-aa9a-589290610691"
      },
      "execution_count": 65,
      "outputs": [
        {
          "output_type": "execute_result",
          "data": {
            "text/plain": [
              "1"
            ]
          },
          "metadata": {},
          "execution_count": 65
        }
      ]
    },
    {
      "cell_type": "code",
      "source": [
        "y"
      ],
      "metadata": {
        "colab": {
          "base_uri": "https://localhost:8080/"
        },
        "id": "z9li5k-gwmiM",
        "outputId": "42dd98a8-c4ea-4834-b36d-cd7564decbca"
      },
      "execution_count": 66,
      "outputs": [
        {
          "output_type": "execute_result",
          "data": {
            "text/plain": [
              "2"
            ]
          },
          "metadata": {},
          "execution_count": 66
        }
      ]
    },
    {
      "cell_type": "code",
      "source": [
        "z"
      ],
      "metadata": {
        "colab": {
          "base_uri": "https://localhost:8080/"
        },
        "id": "ifVIlUnLwmlF",
        "outputId": "1437ef5d-5315-43ca-9285-a4465d0dc215"
      },
      "execution_count": 67,
      "outputs": [
        {
          "output_type": "execute_result",
          "data": {
            "text/plain": [
              "3"
            ]
          },
          "metadata": {},
          "execution_count": 67
        }
      ]
    },
    {
      "cell_type": "markdown",
      "source": [
        "Slicing - [start:stop-1:step value]"
      ],
      "metadata": {
        "id": "CRzxSe-4wpIu"
      }
    },
    {
      "cell_type": "code",
      "source": [
        "print(c[0])\n",
        "print(c[2:6])\n",
        "print(c[:7:3])\n",
        "print(c[::-1])\n",
        "print(c[-1])"
      ],
      "metadata": {
        "colab": {
          "base_uri": "https://localhost:8080/"
        },
        "id": "2uuopRHMwzb6",
        "outputId": "0bc8fefc-8f75-4a5c-fd5c-ed0dbf4373eb"
      },
      "execution_count": 69,
      "outputs": [
        {
          "output_type": "stream",
          "name": "stdout",
          "text": [
            "1\n",
            "(3, 4, 5, 6)\n",
            "(1, 4, 7)\n",
            "(10, 9, 8, 7, 6, 5, 4, 3, 2, 1)\n",
            "10\n"
          ]
        }
      ]
    },
    {
      "cell_type": "markdown",
      "source": [
        "**3. SET**"
      ],
      "metadata": {
        "id": "XDzT1IYzxFU_"
      }
    },
    {
      "cell_type": "markdown",
      "source": [
        "* Collection of homogeneous and hetrogeneous elements.\n",
        "* Represented by curly braces {}.\n",
        "* It doesnot allows duplicates.\n",
        "* It is unordered and immutable."
      ],
      "metadata": {
        "id": "vtpsrWQdxKA-"
      }
    },
    {
      "cell_type": "code",
      "source": [
        "a={10,20,25,45,60,56,70,80}\n",
        "b={24,10,20,45,60,80}\n",
        "print(a)\n",
        "print(b)"
      ],
      "metadata": {
        "colab": {
          "base_uri": "https://localhost:8080/"
        },
        "id": "J8LL-3mSxzz3",
        "outputId": "4bd2d888-fba8-4b34-a3c0-282c81ac4151"
      },
      "execution_count": 73,
      "outputs": [
        {
          "output_type": "stream",
          "name": "stdout",
          "text": [
            "{70, 10, 45, 80, 20, 56, 25, 60}\n",
            "{80, 20, 24, 10, 60, 45}\n"
          ]
        }
      ]
    },
    {
      "cell_type": "markdown",
      "source": [
        "type() - Find the datatype"
      ],
      "metadata": {
        "id": "JIKzLLCOx__n"
      }
    },
    {
      "cell_type": "code",
      "source": [
        "print(type(a))"
      ],
      "metadata": {
        "colab": {
          "base_uri": "https://localhost:8080/"
        },
        "id": "_yTRsny2yFXS",
        "outputId": "221b2361-acc0-4a7c-9e6b-79fc505f8274"
      },
      "execution_count": 71,
      "outputs": [
        {
          "output_type": "stream",
          "name": "stdout",
          "text": [
            "<class 'set'>\n"
          ]
        }
      ]
    },
    {
      "cell_type": "markdown",
      "source": [
        "union()"
      ],
      "metadata": {
        "id": "rUnteMESyIC6"
      }
    },
    {
      "cell_type": "code",
      "source": [
        "a.union(b)"
      ],
      "metadata": {
        "colab": {
          "base_uri": "https://localhost:8080/"
        },
        "id": "5JpCmR_eyUAN",
        "outputId": "c6ec855d-8b1c-46c1-ba15-32bb5f9e337b"
      },
      "execution_count": 74,
      "outputs": [
        {
          "output_type": "execute_result",
          "data": {
            "text/plain": [
              "{10, 20, 24, 25, 45, 56, 60, 70, 80}"
            ]
          },
          "metadata": {},
          "execution_count": 74
        }
      ]
    },
    {
      "cell_type": "code",
      "source": [
        "b.union(a)"
      ],
      "metadata": {
        "colab": {
          "base_uri": "https://localhost:8080/"
        },
        "id": "0HkuD8rUyn7l",
        "outputId": "814af5bf-fd42-46fe-f85f-2a94d416311b"
      },
      "execution_count": 75,
      "outputs": [
        {
          "output_type": "execute_result",
          "data": {
            "text/plain": [
              "{10, 20, 24, 25, 45, 56, 60, 70, 80}"
            ]
          },
          "metadata": {},
          "execution_count": 75
        }
      ]
    },
    {
      "cell_type": "markdown",
      "source": [
        "Intersection"
      ],
      "metadata": {
        "id": "6-lX1yNOyqRD"
      }
    },
    {
      "cell_type": "code",
      "source": [
        "a.intersection(b)"
      ],
      "metadata": {
        "colab": {
          "base_uri": "https://localhost:8080/"
        },
        "id": "dXI5OIqgy4V0",
        "outputId": "95b4de27-5c82-49cd-89bf-7f8c912203c5"
      },
      "execution_count": 76,
      "outputs": [
        {
          "output_type": "execute_result",
          "data": {
            "text/plain": [
              "{10, 20, 45, 60, 80}"
            ]
          },
          "metadata": {},
          "execution_count": 76
        }
      ]
    },
    {
      "cell_type": "code",
      "source": [
        "b.intersection(a)"
      ],
      "metadata": {
        "colab": {
          "base_uri": "https://localhost:8080/"
        },
        "id": "c2KRKaIsy7a8",
        "outputId": "425a1c4f-eb2e-4c77-de5d-1ca422370fca"
      },
      "execution_count": 77,
      "outputs": [
        {
          "output_type": "execute_result",
          "data": {
            "text/plain": [
              "{10, 20, 45, 60, 80}"
            ]
          },
          "metadata": {},
          "execution_count": 77
        }
      ]
    },
    {
      "cell_type": "markdown",
      "source": [
        "Difference"
      ],
      "metadata": {
        "id": "ZJ8cIAkFy-sS"
      }
    },
    {
      "cell_type": "code",
      "source": [
        "a.difference(b)"
      ],
      "metadata": {
        "colab": {
          "base_uri": "https://localhost:8080/"
        },
        "id": "1kAWY-J0zA7a",
        "outputId": "1760d314-0f2f-404f-873f-e9f531a6b125"
      },
      "execution_count": 78,
      "outputs": [
        {
          "output_type": "execute_result",
          "data": {
            "text/plain": [
              "{25, 56, 70}"
            ]
          },
          "metadata": {},
          "execution_count": 78
        }
      ]
    },
    {
      "cell_type": "code",
      "source": [
        "b.difference(a)"
      ],
      "metadata": {
        "colab": {
          "base_uri": "https://localhost:8080/"
        },
        "id": "J7jyxVkAzDqn",
        "outputId": "f2bf8084-ab77-42b8-e223-e6b42f57c702"
      },
      "execution_count": 79,
      "outputs": [
        {
          "output_type": "execute_result",
          "data": {
            "text/plain": [
              "{24}"
            ]
          },
          "metadata": {},
          "execution_count": 79
        }
      ]
    },
    {
      "cell_type": "markdown",
      "source": [
        "Issubset"
      ],
      "metadata": {
        "id": "3y42XC_4zGYM"
      }
    },
    {
      "cell_type": "code",
      "source": [
        "a.issubset(b)"
      ],
      "metadata": {
        "colab": {
          "base_uri": "https://localhost:8080/"
        },
        "id": "eGOUNNWjzLiR",
        "outputId": "02505546-03e5-4623-f44d-63300e7c8732"
      },
      "execution_count": 80,
      "outputs": [
        {
          "output_type": "execute_result",
          "data": {
            "text/plain": [
              "False"
            ]
          },
          "metadata": {},
          "execution_count": 80
        }
      ]
    },
    {
      "cell_type": "code",
      "source": [
        "b.issubset(a)"
      ],
      "metadata": {
        "colab": {
          "base_uri": "https://localhost:8080/"
        },
        "id": "BFdJpHOtzO72",
        "outputId": "a9e8086e-537d-4819-8838-2f0b4e3fd2ca"
      },
      "execution_count": 81,
      "outputs": [
        {
          "output_type": "execute_result",
          "data": {
            "text/plain": [
              "False"
            ]
          },
          "metadata": {},
          "execution_count": 81
        }
      ]
    },
    {
      "cell_type": "markdown",
      "source": [
        "update"
      ],
      "metadata": {
        "id": "cBCYLqsEzUdM"
      }
    },
    {
      "cell_type": "code",
      "source": [
        "a.update(b)\n",
        "a"
      ],
      "metadata": {
        "colab": {
          "base_uri": "https://localhost:8080/"
        },
        "id": "0Gmt8DWlzWg3",
        "outputId": "8c94793e-8480-4547-d668-88fde06b9b5a"
      },
      "execution_count": 93,
      "outputs": [
        {
          "output_type": "execute_result",
          "data": {
            "text/plain": [
              "{10, 20, 24, 25, 45, 56, 60, 70, 80}"
            ]
          },
          "metadata": {},
          "execution_count": 93
        }
      ]
    },
    {
      "cell_type": "code",
      "source": [
        "b.update(a)\n",
        "b"
      ],
      "metadata": {
        "colab": {
          "base_uri": "https://localhost:8080/"
        },
        "id": "C6iXSyoKzYlZ",
        "outputId": "391041b4-71ab-494a-909b-ffbcc1d4b296"
      },
      "execution_count": 90,
      "outputs": [
        {
          "output_type": "execute_result",
          "data": {
            "text/plain": [
              "{10, 20, 24, 25, 45, 56, 60, 70, 80}"
            ]
          },
          "metadata": {},
          "execution_count": 90
        }
      ]
    },
    {
      "cell_type": "markdown",
      "source": [
        "pop()"
      ],
      "metadata": {
        "id": "1VRhGJzozizN"
      }
    },
    {
      "cell_type": "code",
      "source": [
        "a.pop()"
      ],
      "metadata": {
        "colab": {
          "base_uri": "https://localhost:8080/"
        },
        "id": "6ZJLxyRBzkUF",
        "outputId": "be0b0742-1dcc-4633-da37-e47d9fcbea3a"
      },
      "execution_count": 85,
      "outputs": [
        {
          "output_type": "execute_result",
          "data": {
            "text/plain": [
              "70"
            ]
          },
          "metadata": {},
          "execution_count": 85
        }
      ]
    },
    {
      "cell_type": "markdown",
      "source": [
        "remove()"
      ],
      "metadata": {
        "id": "_cXgd0lQzm9f"
      }
    },
    {
      "cell_type": "code",
      "source": [
        "a.remove(60)\n",
        "a"
      ],
      "metadata": {
        "colab": {
          "base_uri": "https://localhost:8080/"
        },
        "id": "Nv0yFPYmzpEZ",
        "outputId": "37116569-40b1-4fad-c511-8a953624c6c1"
      },
      "execution_count": 94,
      "outputs": [
        {
          "output_type": "execute_result",
          "data": {
            "text/plain": [
              "{10, 20, 24, 25, 45, 56, 70, 80}"
            ]
          },
          "metadata": {},
          "execution_count": 94
        }
      ]
    },
    {
      "cell_type": "markdown",
      "source": [
        "in and not in"
      ],
      "metadata": {
        "id": "BNHpSu5F0I2L"
      }
    },
    {
      "cell_type": "code",
      "source": [
        "10 in a"
      ],
      "metadata": {
        "colab": {
          "base_uri": "https://localhost:8080/"
        },
        "id": "Goz5r3f_0L8F",
        "outputId": "b3e63785-2a93-44d0-d0d3-4bc8217d6363"
      },
      "execution_count": 95,
      "outputs": [
        {
          "output_type": "execute_result",
          "data": {
            "text/plain": [
              "True"
            ]
          },
          "metadata": {},
          "execution_count": 95
        }
      ]
    },
    {
      "cell_type": "code",
      "source": [
        "45 not in a"
      ],
      "metadata": {
        "colab": {
          "base_uri": "https://localhost:8080/"
        },
        "id": "XCsZ48zJ0R68",
        "outputId": "e90fe93e-4cd9-4eb7-bfc3-67bad6cb17fc"
      },
      "execution_count": 97,
      "outputs": [
        {
          "output_type": "execute_result",
          "data": {
            "text/plain": [
              "False"
            ]
          },
          "metadata": {},
          "execution_count": 97
        }
      ]
    },
    {
      "cell_type": "markdown",
      "source": [
        "clear()"
      ],
      "metadata": {
        "id": "8lGvcn3G2sXN"
      }
    },
    {
      "cell_type": "code",
      "source": [
        "a.clear()"
      ],
      "metadata": {
        "id": "-XFsWfid2t2S"
      },
      "execution_count": 111,
      "outputs": []
    },
    {
      "cell_type": "markdown",
      "source": [
        "del"
      ],
      "metadata": {
        "id": "67QgpGtg2wyD"
      }
    },
    {
      "cell_type": "code",
      "source": [
        "del a"
      ],
      "metadata": {
        "id": "hLmaWSrP2xxi"
      },
      "execution_count": 112,
      "outputs": []
    },
    {
      "cell_type": "markdown",
      "source": [
        "**4. DICTIONARY**"
      ],
      "metadata": {
        "id": "6eRd4eZP0VxX"
      }
    },
    {
      "cell_type": "markdown",
      "source": [
        "* Collection of homogeneous and hetrogeneous elements.\n",
        "* Key value pairs.\n",
        "* Represented by curly braces.\n",
        "* It doesnot allows duplicates.\n",
        "* It is ordered and mutable"
      ],
      "metadata": {
        "id": "fyv7vXv60k4S"
      }
    },
    {
      "cell_type": "code",
      "source": [
        "d={\"Name\":\"Suki\",\"Age\":21,\"Dept\":\"CSE\"}\n",
        "d"
      ],
      "metadata": {
        "colab": {
          "base_uri": "https://localhost:8080/"
        },
        "id": "tlHZZFNz1UvU",
        "outputId": "a29a6aa9-baf3-4f76-d734-74dbfa55a5f4"
      },
      "execution_count": 98,
      "outputs": [
        {
          "output_type": "execute_result",
          "data": {
            "text/plain": [
              "{'Name': 'Suki', 'Age': 21, 'Dept': 'CSE'}"
            ]
          },
          "metadata": {},
          "execution_count": 98
        }
      ]
    },
    {
      "cell_type": "markdown",
      "source": [
        "type"
      ],
      "metadata": {
        "id": "IiXzUm-Q1fuk"
      }
    },
    {
      "cell_type": "code",
      "source": [
        "print(type(d))"
      ],
      "metadata": {
        "colab": {
          "base_uri": "https://localhost:8080/"
        },
        "id": "DEZcV7Mr1h0Y",
        "outputId": "bc39ecb9-dffa-49cb-d60e-05f982e9c2da"
      },
      "execution_count": 99,
      "outputs": [
        {
          "output_type": "stream",
          "name": "stdout",
          "text": [
            "<class 'dict'>\n"
          ]
        }
      ]
    },
    {
      "cell_type": "markdown",
      "source": [
        "values() - retrive values only"
      ],
      "metadata": {
        "id": "NPObKG_z1kF7"
      }
    },
    {
      "cell_type": "code",
      "source": [
        "d.values()"
      ],
      "metadata": {
        "colab": {
          "base_uri": "https://localhost:8080/"
        },
        "id": "-NhQULMS1o74",
        "outputId": "81c36c89-231b-4022-8401-7f3768f93331"
      },
      "execution_count": 100,
      "outputs": [
        {
          "output_type": "execute_result",
          "data": {
            "text/plain": [
              "dict_values(['Suki', 21, 'CSE'])"
            ]
          },
          "metadata": {},
          "execution_count": 100
        }
      ]
    },
    {
      "cell_type": "markdown",
      "source": [
        "keys() - retrive keys only"
      ],
      "metadata": {
        "id": "EozrorFf1sLJ"
      }
    },
    {
      "cell_type": "code",
      "source": [
        "d.keys()"
      ],
      "metadata": {
        "colab": {
          "base_uri": "https://localhost:8080/"
        },
        "id": "wtq1FqWQ1tjf",
        "outputId": "147e1455-d499-459d-d7d9-916e094acd6e"
      },
      "execution_count": 101,
      "outputs": [
        {
          "output_type": "execute_result",
          "data": {
            "text/plain": [
              "dict_keys(['Name', 'Age', 'Dept'])"
            ]
          },
          "metadata": {},
          "execution_count": 101
        }
      ]
    },
    {
      "cell_type": "markdown",
      "source": [
        "items"
      ],
      "metadata": {
        "id": "Y0dAN3XB129q"
      }
    },
    {
      "cell_type": "code",
      "source": [
        "d.items()"
      ],
      "metadata": {
        "colab": {
          "base_uri": "https://localhost:8080/"
        },
        "id": "oPNA6e8x15RQ",
        "outputId": "49179022-468b-4b97-d60b-271388a08fe2"
      },
      "execution_count": 102,
      "outputs": [
        {
          "output_type": "execute_result",
          "data": {
            "text/plain": [
              "dict_items([('Name', 'Suki'), ('Age', 21), ('Dept', 'CSE')])"
            ]
          },
          "metadata": {},
          "execution_count": 102
        }
      ]
    },
    {
      "cell_type": "markdown",
      "source": [
        "len()"
      ],
      "metadata": {
        "id": "WQ01pXZr1_Uw"
      }
    },
    {
      "cell_type": "code",
      "source": [
        "len(d)"
      ],
      "metadata": {
        "colab": {
          "base_uri": "https://localhost:8080/"
        },
        "id": "C_me5EPz2Af4",
        "outputId": "15883833-4a01-4cda-9d9a-7a0ab51e76dc"
      },
      "execution_count": 103,
      "outputs": [
        {
          "output_type": "execute_result",
          "data": {
            "text/plain": [
              "3"
            ]
          },
          "metadata": {},
          "execution_count": 103
        }
      ]
    },
    {
      "cell_type": "markdown",
      "source": [
        "update"
      ],
      "metadata": {
        "id": "3CIQ_mQl2Cv1"
      }
    },
    {
      "cell_type": "code",
      "source": [
        "d[\"Address\"]=\"Kalanthapanai\"\n",
        "d"
      ],
      "metadata": {
        "colab": {
          "base_uri": "https://localhost:8080/"
        },
        "id": "rCAonexU2ERp",
        "outputId": "fb6311ef-12dd-4084-aa5f-ee5a0855b3c5"
      },
      "execution_count": 105,
      "outputs": [
        {
          "output_type": "execute_result",
          "data": {
            "text/plain": [
              "{'Name': 'Suki', 'Age': 21, 'Dept': 'CSE', 'Address': 'Kalanthapanai'}"
            ]
          },
          "metadata": {},
          "execution_count": 105
        }
      ]
    },
    {
      "cell_type": "markdown",
      "source": [
        "copy()"
      ],
      "metadata": {
        "id": "PlrZhtg72P-2"
      }
    },
    {
      "cell_type": "code",
      "source": [
        "a=d.copy()\n",
        "a"
      ],
      "metadata": {
        "colab": {
          "base_uri": "https://localhost:8080/"
        },
        "id": "udjqnlY92T4A",
        "outputId": "5ed8a352-c9a8-4cb2-cff7-3bb5ee23fb05"
      },
      "execution_count": 106,
      "outputs": [
        {
          "output_type": "execute_result",
          "data": {
            "text/plain": [
              "{'Name': 'Suki', 'Age': 21, 'Dept': 'CSE', 'Address': 'Kalanthapanai'}"
            ]
          },
          "metadata": {},
          "execution_count": 106
        }
      ]
    },
    {
      "cell_type": "markdown",
      "source": [
        "popitem()"
      ],
      "metadata": {
        "id": "B6DfZYN42Y_o"
      }
    },
    {
      "cell_type": "code",
      "source": [
        "d.popitem()"
      ],
      "metadata": {
        "colab": {
          "base_uri": "https://localhost:8080/"
        },
        "id": "ZrFkXOGu2aaq",
        "outputId": "d6699c2c-e71b-483e-ed59-7ea181be6ddb"
      },
      "execution_count": 108,
      "outputs": [
        {
          "output_type": "execute_result",
          "data": {
            "text/plain": [
              "('Address', 'Kalanthapanai')"
            ]
          },
          "metadata": {},
          "execution_count": 108
        }
      ]
    },
    {
      "cell_type": "markdown",
      "source": [
        "clear()"
      ],
      "metadata": {
        "id": "9WzQZi552g0Q"
      }
    },
    {
      "cell_type": "code",
      "source": [
        "d.clear()"
      ],
      "metadata": {
        "id": "wdepgGSS2jaz"
      },
      "execution_count": 109,
      "outputs": []
    },
    {
      "cell_type": "markdown",
      "source": [
        "del"
      ],
      "metadata": {
        "id": "cXuQLcvo2laG"
      }
    },
    {
      "cell_type": "code",
      "source": [
        "del d"
      ],
      "metadata": {
        "id": "zRgDPRrS2nE4"
      },
      "execution_count": 110,
      "outputs": []
    }
  ]
}